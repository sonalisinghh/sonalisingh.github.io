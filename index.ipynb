{
  "cells": [
    {
      "cell_type": "raw",
      "metadata": {},
      "source": [
        "---\n",
        "title: \"Min (Mia) Shi | Data Analyst\"\n",
        "output: html_document\n",
        "---"
      ],
      "id": "3cc0ef94"
    },
    {
      "cell_type": "markdown",
      "metadata": {},
      "source": [
        "```{html}\n",
        "<!-- Navigation Menu -->\n",
        "<nav class=\"hide-on-small-only\">\n",
        "  <ul class=\"side-nav fixed section table-of-contents\">\n",
        "    <li class=\"logo\">\n",
        "      <a id=\"logo-container\" aria-label=\"Navigate to the beginning of the page\" href=\"#intro\" class=\"brand-logo grey-blue-text\">\n",
        "        <img src=\"/assets/img/New_Official_Picture_2022_10.JPG\" class=\"circle img-responsive profile-pic\" alt=\"avatar\">\n",
        "      </a>\n",
        "    </li>\n",
        "    <li class=\"bold\">\n",
        "      <a aria-label=\"Navigate to the About section\" href=\"#about\" class=\"waves-effect waves-light teal-text\"><i class=\"mdi-social-person small\"></i><span>About</span></a>\n",
        "    </li>\n",
        "    <!-- Add more list items as needed -->\n",
        "  </ul>\n",
        "</nav>"
      ],
      "id": "3b1df424"
    }
  ],
  "metadata": {
    "kernelspec": {
      "display_name": "Python 3",
      "language": "python",
      "name": "python3"
    }
  },
  "nbformat": 4,
  "nbformat_minor": 5
}